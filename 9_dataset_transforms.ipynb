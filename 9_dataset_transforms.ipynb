{
 "cells": [
  {
   "cell_type": "markdown",
   "metadata": {},
   "source": [
    "# Dataset transforms\n",
    "\n",
    "We often need to transform large amounts of data into compatible/usable formats. PyTorch has implemented a large number of transforms that we can use out of the box. In this example we will work on the MNIST dataset and use the `ToTensor` transform which will convert images or numpy arrays to tensors. <br>\n",
    "\n",
    "Transforms can be applied to PIL images, tensors, ndarrays, or custom data during creation of the Dataset class. <br>\n",
    "Complete list of built-in transforms can be found <a href=\"https://pytorch.org/vision/stable/transforms.html\">here.</a>\n",
    "- On Images\n",
    "```\n",
    "CenterCrop, Grayscale, Pad, RandomAffine\n",
    "RandomCrop, RandomHorizontalFlip, RandomRotation\n",
    "Resize, Scale\n",
    "```\n",
    "- On Tensors\n",
    "```\n",
    "LinearTransformation, Normalize, RandomErasing\n",
    "```\n",
    "- Conversion\n",
    "```\n",
    "ToPILImage: from tensor or ndrarray\n",
    "ToTensor : from numpy.ndarray or PILImage\n",
    "```\n",
    "- Generic\n",
    "```\n",
    "Use Lambda \n",
    "```\n",
    "- Custom\n",
    "```\n",
    "Write own class\n",
    "```\n",
    "- Compose multiple Transforms\n",
    "```\n",
    "composed = transforms.Compose([Rescale(256),\n",
    "                               RandomCrop(224)])\n",
    "```"
   ]
  },
  {
   "cell_type": "code",
   "execution_count": 1,
   "metadata": {},
   "outputs": [],
   "source": [
    "# Imports\n",
    "import torch\n",
    "import torchvision\n",
    "from torch.utils.data import Dataset, DataLoader\n",
    "import numpy as np\n",
    "import math"
   ]
  },
  {
   "cell_type": "code",
   "execution_count": 3,
   "metadata": {},
   "outputs": [],
   "source": [
    "# Copying and extending the custom dataset from the previous notebook\n",
    "class WineDataset(Dataset):  # Extends the Dataset module\n",
    "    def __init__(self, transform=None):  # To support transforms, None by default\n",
    "        # Data loading\n",
    "        xy = np.loadtxt('data/wine.csv', delimiter=',', dtype=np.float32, skiprows=1)\n",
    "        # Split and convert\n",
    "        self.x = torch.from_numpy(xy[:, 1:])  # All the samples except first column\n",
    "        self.y = torch.from_numpy(xy[:, [0]])  # n_samples, 1\n",
    "        self.num_samples = xy.shape[0]  # Number of samples\n",
    "\n",
    "        self.transform = transform\n",
    "\n",
    "    def __getitem__(self, index):  # Will allow for indexing later\n",
    "        # dataset[0] would be valid due to this method\n",
    "        sample = self.x[index], self.y[index]\n",
    "        # Apply a transform if available:\n",
    "        if self.transform:\n",
    "            sample = self.transform(sample)\n",
    "        \n",
    "        return sample\n",
    "\n",
    "    def __len__(self):  # This allows us to get the length of the dataset\n",
    "        return self.num_samples"
   ]
  },
  {
   "cell_type": "code",
   "execution_count": 10,
   "metadata": {},
   "outputs": [],
   "source": [
    "# Now that we've modified our dataset to use transforms, we can use ready made ones\n",
    "# But for now we're gonna implement one on our own:\n",
    "class ToTensor:\n",
    "    def __call__(self, sample):  # Callable object\n",
    "        # Unpack the sample\n",
    "        inputs, labels = sample\n",
    "        return torch.from_numpy(np.asarray(inputs)), torch.from_numpy(np.asarray(labels))\n"
   ]
  },
  {
   "cell_type": "code",
   "execution_count": 14,
   "metadata": {},
   "outputs": [
    {
     "name": "stdout",
     "output_type": "stream",
     "text": [
      "Test features type: <class 'torch.Tensor'>, Test labels: <class 'torch.Tensor'>\n",
      "Test features: tensor([1.4230e+01, 1.7100e+00, 2.4300e+00, 1.5600e+01, 1.2700e+02, 2.8000e+00,\n",
      "        3.0600e+00, 2.8000e-01, 2.2900e+00, 5.6400e+00, 1.0400e+00, 3.9200e+00,\n",
      "        1.0650e+03])\n"
     ]
    }
   ],
   "source": [
    "dataset = WineDataset(transform=ToTensor())\n",
    "\n",
    "first_data = dataset[0]\n",
    "test_features, test_labels = first_data\n",
    "print(f'Test features type: {type(test_features)}, Test labels: {type(test_labels)}')\n",
    "print(f'Test features: {test_features}')\n"
   ]
  },
  {
   "cell_type": "code",
   "execution_count": 15,
   "metadata": {},
   "outputs": [],
   "source": [
    "# Multiplication transform class implementation\n",
    "class MulTransform:\n",
    "    def __init__(self, factor):\n",
    "        self.factor = factor\n",
    "    \n",
    "    def __call__(self, sample):\n",
    "        inputs, labels = sample\n",
    "        inputs *= self.factor\n",
    "        return inputs, labels"
   ]
  },
  {
   "cell_type": "code",
   "execution_count": 16,
   "metadata": {},
   "outputs": [
    {
     "name": "stdout",
     "output_type": "stream",
     "text": [
      "Test features type: <class 'torch.Tensor'>, Test labels: <class 'torch.Tensor'>\n",
      "Test features: tensor([2.8460e+01, 3.4200e+00, 4.8600e+00, 3.1200e+01, 2.5400e+02, 5.6000e+00,\n",
      "        6.1200e+00, 5.6000e-01, 4.5800e+00, 1.1280e+01, 2.0800e+00, 7.8400e+00,\n",
      "        2.1300e+03])\n"
     ]
    }
   ],
   "source": [
    "composed = torchvision.transforms.Compose([ToTensor(), MulTransform(2)])  # Takes a list of transforms\n",
    "\n",
    "dataset = WineDataset(transform=composed)\n",
    "\n",
    "first_data = dataset[0]\n",
    "test_features, test_labels = first_data\n",
    "print(f'Test features type: {type(test_features)}, Test labels: {type(test_labels)}')\n",
    "print(f'Test features: {test_features}')"
   ]
  }
 ],
 "metadata": {
  "interpreter": {
   "hash": "4ce0e62306dd6a5716965d4519ada776f947e6dfc145b604b11307c10277ef29"
  },
  "kernelspec": {
   "display_name": "Python 3.8.6 64-bit",
   "language": "python",
   "name": "python3"
  },
  "language_info": {
   "codemirror_mode": {
    "name": "ipython",
    "version": 3
   },
   "file_extension": ".py",
   "mimetype": "text/x-python",
   "name": "python",
   "nbconvert_exporter": "python",
   "pygments_lexer": "ipython3",
   "version": "3.8.6"
  },
  "orig_nbformat": 4
 },
 "nbformat": 4,
 "nbformat_minor": 2
}
