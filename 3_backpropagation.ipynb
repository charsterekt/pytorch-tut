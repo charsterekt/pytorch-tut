{
 "cells": [
  {
   "cell_type": "markdown",
   "metadata": {},
   "source": [
    "# Backpropagation\n",
    "\n"
   ]
  },
  {
   "cell_type": "markdown",
   "metadata": {},
   "source": [
    "Let's say we have two functions:\n",
    "\n",
    "`x -> a(x) -y-> b(y) -z->`\n",
    "\n",
    "We want to find the derivative `dz/dx`, this can be done by the chain rule.\n",
    "\n",
    "`dz/dx = dz/dy * dy/dx`\n",
    "\n",
    "Think about how this applies in Pytorch where autograd applies a function on each operation as we have seen. In each of these \"nodes\" the `local` gradient is computed, and using the chain rule the final gradient is calculated.\n",
    "\n",
    "At the end of training we usually have a loss function we want to minimize and we need local gradients to help calculate the gradient of loss with respect to the terms.\n",
    "\n",
    "`dLoss/dx = dLoss/dz * dz/dx`\n",
    "\n",
    "The whole process consists of three steps:\n",
    "\n",
    "- Step 1: The forward pass. In this step, we apply all the functions and compute the losses.\n",
    "- Step 2: In this step we calculate all the local gradients.\n",
    "- Step 3: This is the backward pass. We compute the derivative of the loss with respect to the weights using the chain rule."
   ]
  },
  {
   "cell_type": "code",
   "execution_count": 1,
   "metadata": {},
   "outputs": [],
   "source": [
    "# Let's take a practical example\n",
    "import torch"
   ]
  },
  {
   "cell_type": "code",
   "execution_count": 3,
   "metadata": {},
   "outputs": [
    {
     "name": "stdout",
     "output_type": "stream",
     "text": [
      "tensor(1., grad_fn=<PowBackward0>)\n",
      "tensor(-2.)\n"
     ]
    }
   ],
   "source": [
    "x = torch.tensor(1.0)\n",
    "y = torch.tensor(2.0)\n",
    "\n",
    "w = torch.tensor(1.0, requires_grad=True)  # Initial weight\n",
    "# Forward pass and compute loss:\n",
    "y_hat = w * x\n",
    "loss = (y_hat - y) ** 2\n",
    "print(loss)\n",
    "# Backward pass (pytorch handles a lot of it)\n",
    "loss.backward()\n",
    "print(w.grad)\n",
    "\n",
    "# Next steps would be update weights and next forward/backward passes"
   ]
  },
  {
   "cell_type": "markdown",
   "metadata": {},
   "source": [
    "The above example can be mathematically represented with the following process:\n",
    "\n",
    "<img src=\"screenshots/backprop_example.png\" alt=\"example\" />\n",
    "\n",
    "Note: the `^` is actually `1`, it just looks weird. As you can see, the final answer tallies."
   ]
  }
 ],
 "metadata": {
  "interpreter": {
   "hash": "4ce0e62306dd6a5716965d4519ada776f947e6dfc145b604b11307c10277ef29"
  },
  "kernelspec": {
   "display_name": "Python 3.8.6 64-bit",
   "language": "python",
   "name": "python3"
  },
  "language_info": {
   "codemirror_mode": {
    "name": "ipython",
    "version": 3
   },
   "file_extension": ".py",
   "mimetype": "text/x-python",
   "name": "python",
   "nbconvert_exporter": "python",
   "pygments_lexer": "ipython3",
   "version": "3.8.6"
  },
  "orig_nbformat": 4
 },
 "nbformat": 4,
 "nbformat_minor": 2
}
