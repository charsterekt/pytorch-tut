{
 "cells": [
  {
   "cell_type": "markdown",
   "metadata": {},
   "source": [
    "# Activation Functions\n",
    "\n",
    "Activation functions apply a linear transformation to layer output and decide whether a neuron should be activated or not. We have already seen a few examples of activation functions as well as used them before. `Binary Step`, `Sigmoid`, `ReLU`, `TanH`, `Softmax` etc are all activation functions. There exist a lot of variations of these functions like `Leaky ReLU`, and they are all implemented within PyTorch and are directly usable from there. Read more about them online to understand which one should be used in which situation. <br>\n",
    "\n",
    "- Binary Step: is not used in practice. Outputs 1 if input is greater than threshold, or 0 otherwise.\n",
    "- Sigmoid: Typically used in the last layer of a neural net for a binary classification task, outputs a probability between 0 and 1.\n",
    "- TanH: Hyperbolic tangent function, it is a scaled and shifted version of Sigmoid that outputs a value between -1 and 1. It is usually used in hidden layers.\n",
    "- ReLU: ReLU outputs 0 for negative values and input as output for positive, it is a linear function for values greater than 0 and 0 for negative values. It is actually a non-linear transform and is the most popular function to use in hidden layers. As a rule of thumb if you don't know what to use in hidden layers, use ReLU.\n",
    "- Leaky ReLU: mostly the same, but multiplies the input with a very small value for negative numbers. It is an improved version that tries to solve the vanishing gradient problem often seen in ReLU.\n",
    "- Softmax: We have discussed this in the previous notebook, it returns probabilities for multiple inputs by squashing the values between 0 and 1. Usually used in the last layer of a multi class classification problem."
   ]
  },
  {
   "cell_type": "code",
   "execution_count": 1,
   "metadata": {},
   "outputs": [],
   "source": [
    "# Imports\n",
    "import torch\n",
    "import torch.nn as nn\n",
    "import torch.nn.functional as F"
   ]
  },
  {
   "cell_type": "code",
   "execution_count": 3,
   "metadata": {},
   "outputs": [],
   "source": [
    "# Option 1: Create nn modules\n",
    "class NeuralNet(nn.Module):\n",
    "    def __init__(self, input_size, hidden_size):\n",
    "        super(NeuralNet, self).__init__()\n",
    "        self.linear1 = nn.Linear(input_size, hidden_size)\n",
    "        self.relu = nn.ReLU()\n",
    "        self.linear2 = nn.Linear(hidden_size, 1)  # binary output\n",
    "        self.sigmoid = nn.Sigmoid()\n",
    "\n",
    "    def forward(self, x):\n",
    "        out = self.linear1(x)\n",
    "        out = self.relu(out)\n",
    "        out = self.linear2(out)\n",
    "        out = self.sigmoid(out)\n",
    "        return out\n",
    "\n",
    "# Option 2: Use activation functions directly in the forward pass\n",
    "class NeuralNet2(nn.Module):\n",
    "    def __init__(self, input_size, hidden_size):\n",
    "        super(NeuralNet, self).__init__()\n",
    "        self.linear1 = nn.Linear(input_size, hidden_size)\n",
    "        self.linear2 = nn.Linear(hidden_size, 1)  # binary output\n",
    "\n",
    "    def forward(self, x):\n",
    "        out = torch.relu(self.linear1(x))\n",
    "        out = torch.sigmoid(self.linear2(out))\n",
    "        return out\n",
    "\n",
    "# Some functions might not be available in the torch api directly\n",
    "# So we use torch.nn.functional \n",
    "# F.leaky_relu()\n",
    "# It's a matter of knowing what is available where, and preference"
   ]
  }
 ],
 "metadata": {
  "interpreter": {
   "hash": "4ce0e62306dd6a5716965d4519ada776f947e6dfc145b604b11307c10277ef29"
  },
  "kernelspec": {
   "display_name": "Python 3.8.6 64-bit",
   "language": "python",
   "name": "python3"
  },
  "language_info": {
   "codemirror_mode": {
    "name": "ipython",
    "version": 3
   },
   "file_extension": ".py",
   "mimetype": "text/x-python",
   "name": "python",
   "nbconvert_exporter": "python",
   "pygments_lexer": "ipython3",
   "version": "3.8.6"
  },
  "orig_nbformat": 4
 },
 "nbformat": 4,
 "nbformat_minor": 2
}
