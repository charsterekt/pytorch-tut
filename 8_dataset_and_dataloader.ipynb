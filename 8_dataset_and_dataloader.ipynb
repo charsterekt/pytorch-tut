{
 "cells": [
  {
   "cell_type": "markdown",
   "metadata": {},
   "source": [
    "# PyTorch Dataset and DataLoader classes\n",
    "\n",
    "This will demonstrate how to create and load custom datasets to work with PyTorch models. <br>\n",
    "\n",
    "Let's talk a bit about the process of batch training:\n",
    "- a single epoch involves one forward and one backward pass of all training samples.\n",
    "- batch size is the number of training samples being taken in one forward and backward pass.\n",
    "- number of iterations is the number of passes, each pass using the batch size for number of samples.\n",
    "\n",
    "So for example, 100 samples, batch size 20 --> 100/20 = 5 iterations for 1 epoch."
   ]
  },
  {
   "cell_type": "code",
   "execution_count": 1,
   "metadata": {},
   "outputs": [],
   "source": [
    "# Imports\n",
    "import torch\n",
    "import torchvision\n",
    "from torch.utils.data import Dataset, DataLoader\n",
    "import numpy as np\n",
    "import math"
   ]
  },
  {
   "cell_type": "code",
   "execution_count": 6,
   "metadata": {},
   "outputs": [
    {
     "name": "stdout",
     "output_type": "stream",
     "text": [
      "Features: tensor([1.4230e+01, 1.7100e+00, 2.4300e+00, 1.5600e+01, 1.2700e+02, 2.8000e+00,\n",
      "        3.0600e+00, 2.8000e-01, 2.2900e+00, 5.6400e+00, 1.0400e+00, 3.9200e+00,\n",
      "        1.0650e+03])\n",
      "Labels: tensor([1.])\n"
     ]
    }
   ],
   "source": [
    "# Implementing a custom dataset\n",
    "class WineDataset(Dataset):  # Extends the Dataset module\n",
    "    def __init__(self):\n",
    "        # Data loading\n",
    "        xy = np.loadtxt('data/wine.csv', delimiter=',', dtype=np.float32, skiprows=1)\n",
    "        # Split and convert\n",
    "        self.x = torch.from_numpy(xy[:, 1:])  # All the samples except first column\n",
    "        self.y = torch.from_numpy(xy[:, [0]])  # n_samples, 1\n",
    "        self.num_samples = xy.shape[0]  # Number of samples\n",
    "\n",
    "    def __getitem__(self, index):  # Will allow for indexing later\n",
    "        # dataset[0] would be valid due to this method\n",
    "        return self.x[index], self.y[index]\n",
    "\n",
    "    def __len__(self):  # This allows us to get the length of the dataset\n",
    "        return self.num_samples\n",
    "\n",
    "\n",
    "# These are the basic methods our dataset class needs\n",
    "# Then we instantiate it\n",
    "\n",
    "dataset = WineDataset()\n",
    "first_data = dataset[0]  # We are able to use indexing\n",
    "test_features, test_labels = first_data\n",
    "print(f'Features: {test_features}\\nLabels: {test_labels}')\n",
    "\n"
   ]
  },
  {
   "cell_type": "code",
   "execution_count": 8,
   "metadata": {},
   "outputs": [
    {
     "name": "stdout",
     "output_type": "stream",
     "text": [
      "Features: tensor([[1.3720e+01, 1.4300e+00, 2.5000e+00, 1.6700e+01, 1.0800e+02, 3.4000e+00,\n",
      "         3.6700e+00, 1.9000e-01, 2.0400e+00, 6.8000e+00, 8.9000e-01, 2.8700e+00,\n",
      "         1.2850e+03],\n",
      "        [1.2370e+01, 1.2100e+00, 2.5600e+00, 1.8100e+01, 9.8000e+01, 2.4200e+00,\n",
      "         2.6500e+00, 3.7000e-01, 2.0800e+00, 4.6000e+00, 1.1900e+00, 2.3000e+00,\n",
      "         6.7800e+02],\n",
      "        [1.4830e+01, 1.6400e+00, 2.1700e+00, 1.4000e+01, 9.7000e+01, 2.8000e+00,\n",
      "         2.9800e+00, 2.9000e-01, 1.9800e+00, 5.2000e+00, 1.0800e+00, 2.8500e+00,\n",
      "         1.0450e+03],\n",
      "        [1.3300e+01, 1.7200e+00, 2.1400e+00, 1.7000e+01, 9.4000e+01, 2.4000e+00,\n",
      "         2.1900e+00, 2.7000e-01, 1.3500e+00, 3.9500e+00, 1.0200e+00, 2.7700e+00,\n",
      "         1.2850e+03]])\n",
      "Labels: tensor([[1.],\n",
      "        [2.],\n",
      "        [1.],\n",
      "        [1.]])\n"
     ]
    }
   ],
   "source": [
    "# Now we'll use a dataloader to load it\n",
    "dataloader = DataLoader(dataset=dataset, batch_size=4, shuffle=True, num_workers=0)\n",
    "# Shuffle shuffles the data, num_workers uses multithreading\n",
    "# If num_workers is causing issues, try using 0\n",
    "\n",
    "data_iter = iter(dataloader)\n",
    "data = data_iter.next()\n",
    "\n",
    "# Unpack\n",
    "features, labels = data\n",
    "print(f'Features: {features}\\nLabels: {labels}')"
   ]
  },
  {
   "cell_type": "code",
   "execution_count": 11,
   "metadata": {},
   "outputs": [
    {
     "name": "stdout",
     "output_type": "stream",
     "text": [
      "178 45\n",
      "Epoch 1/2, Step 5/45, Inputs: torch.Size([4, 13])\n",
      "Epoch 1/2, Step 10/45, Inputs: torch.Size([4, 13])\n",
      "Epoch 1/2, Step 15/45, Inputs: torch.Size([4, 13])\n",
      "Epoch 1/2, Step 20/45, Inputs: torch.Size([4, 13])\n",
      "Epoch 1/2, Step 25/45, Inputs: torch.Size([4, 13])\n",
      "Epoch 1/2, Step 30/45, Inputs: torch.Size([4, 13])\n",
      "Epoch 1/2, Step 35/45, Inputs: torch.Size([4, 13])\n",
      "Epoch 1/2, Step 40/45, Inputs: torch.Size([4, 13])\n",
      "Epoch 1/2, Step 45/45, Inputs: torch.Size([2, 13])\n",
      "Epoch 2/2, Step 5/45, Inputs: torch.Size([4, 13])\n",
      "Epoch 2/2, Step 10/45, Inputs: torch.Size([4, 13])\n",
      "Epoch 2/2, Step 15/45, Inputs: torch.Size([4, 13])\n",
      "Epoch 2/2, Step 20/45, Inputs: torch.Size([4, 13])\n",
      "Epoch 2/2, Step 25/45, Inputs: torch.Size([4, 13])\n",
      "Epoch 2/2, Step 30/45, Inputs: torch.Size([4, 13])\n",
      "Epoch 2/2, Step 35/45, Inputs: torch.Size([4, 13])\n",
      "Epoch 2/2, Step 40/45, Inputs: torch.Size([4, 13])\n",
      "Epoch 2/2, Step 45/45, Inputs: torch.Size([2, 13])\n"
     ]
    }
   ],
   "source": [
    "# Now let's iterate over the whole dataloader in a dummy training loop\n",
    "# Hyperparameters:\n",
    "num_epochs = 2\n",
    "total_samples = len(dataset)\n",
    "batch_size = 4\n",
    "n_iterations = math.ceil(total_samples/batch_size)\n",
    "print(total_samples, n_iterations)\n",
    "\n",
    "for epoch in range(num_epochs):\n",
    "    for iteration, (inputs, labels) in enumerate(dataloader):\n",
    "        # Forward pass\n",
    "        # Backward pass\n",
    "        # Update weights\n",
    "        # But this is dummy, so we're not doing it\n",
    "        if (iteration + 1) % 5 == 0:\n",
    "            print(f'Epoch {epoch+1}/{num_epochs}, Step {iteration+1}/{n_iterations}, Inputs: {inputs.shape}')\n"
   ]
  },
  {
   "cell_type": "markdown",
   "metadata": {},
   "source": [
    "Pytorch also has inbuilt datasets we can access <br>\n",
    "MNIST: <br>\n",
    "`torchvision.datasets.MNIST()` <br>\n",
    "Fashion MNIST, CIFAR, COCO, etc. Google the docs for which datasets are available."
   ]
  }
 ],
 "metadata": {
  "interpreter": {
   "hash": "4ce0e62306dd6a5716965d4519ada776f947e6dfc145b604b11307c10277ef29"
  },
  "kernelspec": {
   "display_name": "Python 3.8.6 64-bit",
   "language": "python",
   "name": "python3"
  },
  "language_info": {
   "codemirror_mode": {
    "name": "ipython",
    "version": 3
   },
   "file_extension": ".py",
   "mimetype": "text/x-python",
   "name": "python",
   "nbconvert_exporter": "python",
   "pygments_lexer": "ipython3",
   "version": "3.8.6"
  },
  "orig_nbformat": 4
 },
 "nbformat": 4,
 "nbformat_minor": 2
}
