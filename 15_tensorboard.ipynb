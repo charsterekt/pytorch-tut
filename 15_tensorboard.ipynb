{
 "cells": [
  {
   "cell_type": "markdown",
   "metadata": {},
   "source": [
    "# Tensorboard\n",
    "\n",
    "Tensorboard is a visualization and inspection tool created by TensorFlow, which can also be integrated with PyTorch to visualize and inspect our pipeline and models. In this notebook, the code is nearly identical to the code from notebook 12: feed forward net. We are using it as an example for how to get started with Tensorboard. <br>\n",
    "\n",
    "To get started, run tensorboard in the terminal with `tensorboard --logdir=runs` where `logdir` is the directory where run logs are stored. Tensorboard will be started on localhost."
   ]
  },
  {
   "cell_type": "code",
   "execution_count": 12,
   "metadata": {},
   "outputs": [],
   "source": [
    "# Import\n",
    "\n",
    "import torch\n",
    "import torch.nn as nn\n",
    "import torch.nn.functional as F\n",
    "import torchvision\n",
    "import torchvision.transforms as transforms\n",
    "import matplotlib.pyplot as plt\n",
    "from torch.utils.tensorboard import SummaryWriter\n",
    "\n",
    "%matplotlib inline"
   ]
  },
  {
   "cell_type": "code",
   "execution_count": 2,
   "metadata": {},
   "outputs": [],
   "source": [
    "# Create a summary write for tensorboard\n",
    "writer = SummaryWriter(\"runs/mnist\")"
   ]
  },
  {
   "cell_type": "code",
   "execution_count": 3,
   "metadata": {},
   "outputs": [],
   "source": [
    "# Device config\n",
    "device = torch.device('cuda' if torch.cuda.is_available() else 'cpu')"
   ]
  },
  {
   "cell_type": "code",
   "execution_count": 4,
   "metadata": {},
   "outputs": [],
   "source": [
    "# Hyperparameters\n",
    "input_size = 784  # 28 x 28 is the image size, will be flattened into a 1D tensor\n",
    "hidden_size = 100  # Number of nodes in the hidden layer\n",
    "num_classes = 10  # Digits from 0 - 9\n",
    "num_epochs = 2\n",
    "batch_size = 100\n",
    "learning_rate = 0.001"
   ]
  },
  {
   "cell_type": "code",
   "execution_count": 5,
   "metadata": {},
   "outputs": [
    {
     "name": "stdout",
     "output_type": "stream",
     "text": [
      "Shape: torch.Size([100, 1, 28, 28]), Labels shape: torch.Size([100])\n"
     ]
    }
   ],
   "source": [
    "# Import MNIST data\n",
    "training_dataset = torchvision.datasets.MNIST(root='./data', train=True, \n",
    "    transform=transforms.ToTensor(), download=True)\n",
    "\n",
    "test_dataset = torchvision.datasets.MNIST(root='./data', train=False, \n",
    "    transform=transforms.ToTensor())\n",
    "\n",
    "# Create dataloaders\n",
    "train_loader = torch.utils.data.DataLoader(dataset=training_dataset, batch_size=batch_size,\n",
    "    shuffle=True, num_workers=0)\n",
    "\n",
    "test_loader = torch.utils.data.DataLoader(dataset=test_dataset, batch_size=batch_size,\n",
    "    shuffle=True, num_workers=0)\n",
    "\n",
    "# View a single batch\n",
    "examples = iter(train_loader)\n",
    "samples, labels = examples.next()\n",
    "print(f'Shape: {samples.shape}, Labels shape: {labels.shape}')"
   ]
  },
  {
   "cell_type": "markdown",
   "metadata": {},
   "source": [
    "The size of the sample is 100 (batch size), 1 is for a singular channel (no colour channels), 28, 28 is the image array (28x28). Each class label has 1 value, hence the labels being a tensor of 100."
   ]
  },
  {
   "cell_type": "code",
   "execution_count": 6,
   "metadata": {},
   "outputs": [
    {
     "data": {
      "image/png": "[encoded data removed]",
      "text/plain": [
       "<Figure size 432x288 with 6 Axes>"
      ]
     },
     "metadata": {
      "needs_background": "light"
     },
     "output_type": "display_data"
    }
   ],
   "source": [
    "# Plot this\n",
    "for i in range(6):  # 6 samples\n",
    "    plt.subplot(2, 3, i+1)\n",
    "    plt.imshow(samples[i][0], cmap='gray')  # [0] for the first color channel\n",
    "plt.show()\n",
    "\n",
    "# Apart from plotting we can also add the images to the tensorboard\n",
    "image_grid = torchvision.utils.make_grid(samples)\n",
    "writer.add_image(\"MNIST images example\", image_grid)\n",
    "writer.close()"
   ]
  },
  {
   "cell_type": "code",
   "execution_count": 7,
   "metadata": {},
   "outputs": [],
   "source": [
    "# Let's create a neural network\n",
    "class NeuralNet(nn.Module):\n",
    "    def __init__(self, input_size, hidden_size, num_classes):  # Num classes = output size\n",
    "        super(NeuralNet, self).__init__()\n",
    "        # Layers\n",
    "        self.layer1 = nn.Linear(input_size, hidden_size)\n",
    "        self.relu = nn.ReLU()  # Activation function\n",
    "        self.layer2 = nn.Linear(hidden_size, num_classes)  # Output layer\n",
    "    \n",
    "    def forward(self, x):\n",
    "        out = self.layer1(x)\n",
    "        out = self.relu(out)\n",
    "        out = self.layer2(out)\n",
    "        # No softmax as we're applying cross entropy loss\n",
    "        return out"
   ]
  },
  {
   "cell_type": "code",
   "execution_count": 8,
   "metadata": {},
   "outputs": [],
   "source": [
    "# Create the model\n",
    "model = NeuralNet(input_size, hidden_size, num_classes).to(device)\n",
    "\n",
    "# Loss and Optimizer\n",
    "loss = nn.CrossEntropyLoss()\n",
    "optimizer = torch.optim.AdamW(model.parameters(), lr=learning_rate)\n",
    "\n",
    "# Model graph\n",
    "sample_data = samples.reshape(-1, 28*28).to(device)\n",
    "writer.add_graph(model, sample_data)\n",
    "writer.close()"
   ]
  },
  {
   "cell_type": "code",
   "execution_count": 15,
   "metadata": {},
   "outputs": [
    {
     "name": "stdout",
     "output_type": "stream",
     "text": [
      "Reshaping...\n",
      "Epoch 1/2, Step 100/600, Loss: 0.0378\n",
      "Epoch 1/2, Step 200/600, Loss: 0.0859\n",
      "Epoch 1/2, Step 300/600, Loss: 0.0469\n",
      "Epoch 1/2, Step 400/600, Loss: 0.0463\n",
      "Epoch 1/2, Step 500/600, Loss: 0.0219\n",
      "Epoch 1/2, Step 600/600, Loss: 0.0175\n",
      "Epoch 2/2, Step 100/600, Loss: 0.0596\n",
      "Epoch 2/2, Step 200/600, Loss: 0.0518\n",
      "Epoch 2/2, Step 300/600, Loss: 0.0712\n",
      "Epoch 2/2, Step 400/600, Loss: 0.0349\n",
      "Epoch 2/2, Step 500/600, Loss: 0.0108\n",
      "Epoch 2/2, Step 600/600, Loss: 0.1143\n",
      "Accuracy: 97.4900%\n"
     ]
    }
   ],
   "source": [
    "# Training loop\n",
    "n_total_steps = len(train_loader)\n",
    "\n",
    "# Adding Tensorboard diagnostics\n",
    "running_loss = 0.0\n",
    "running_correct_preds = 0\n",
    "\n",
    "print(\"Reshaping...\")\n",
    "for epoch in range(num_epochs):\n",
    "    for i, (images, labels) in enumerate(train_loader):\n",
    "        # Reshape the images from 100, 1, 28, 28 to 100, 784\n",
    "        images = images.reshape(-1, 28 * 28).to(device)\n",
    "        labels = labels.to(device)\n",
    "\n",
    "        # Forward pass\n",
    "        outputs = model(images)\n",
    "        loss_value = loss(outputs, labels)\n",
    "        \n",
    "        # Backward pass and optimize\n",
    "        optimizer.zero_grad()\n",
    "        loss_value.backward()\n",
    "        optimizer.step()\n",
    "\n",
    "        # Update running metrics\n",
    "        running_loss += loss_value.item()\n",
    "        _, predictions = torch.max(outputs, 1)\n",
    "        running_correct_preds += torch.sum(predictions == labels).sum().item()\n",
    "        # Print info\n",
    "        if (i + 1) % 100 == 0:\n",
    "            print(f'Epoch {epoch + 1}/{num_epochs}, Step {i + 1}/{n_total_steps}, Loss: {loss_value.item():.4f}')\n",
    "            # Calculate the mean and add it to the tensorboard\n",
    "            writer.add_scalar('Training Loss', running_loss / 100, epoch * n_total_steps + i)\n",
    "            writer.add_scalar('Accuracy', running_correct_preds / 100, epoch * n_total_steps + i)\n",
    "            # Reset\n",
    "            running_loss = 0.0\n",
    "            running_correct_preds = 0\n",
    "\n",
    "\n",
    "# Testing and Evaluation of the model\n",
    "# Create a list to store labels. This will help in implementing a precision recall curve on tensorboard\n",
    "diag_labels = []\n",
    "preds = []\n",
    "\n",
    "# Don't compute gradients for these steps\n",
    "with torch.no_grad():\n",
    "    n_correct = 0\n",
    "    n_samples = 0\n",
    "    for images, labels in test_loader:\n",
    "        # Reshape\n",
    "        images = images.reshape(-1, 28 * 28).to(device)\n",
    "        labels = labels.to(device)\n",
    "        outputs = model(images)\n",
    "\n",
    "        _, predictions = torch.max(outputs, 1)  # Along first dimension\n",
    "        n_samples += labels.shape[0]  # Will give number of samples in current batch\n",
    "        # n_samples += labels.size(0) is also valid\n",
    "        n_correct += (predictions == labels).sum().item()\n",
    "\n",
    "        # Diagnostics\n",
    "        class_predictions = [F.softmax(output, dim=0) for output in outputs]\n",
    "        preds.append(class_predictions)\n",
    "        diag_labels.append(predictions)\n",
    "        \n",
    "    # Diagnostic conversion\n",
    "    diag_labels = torch.cat(diag_labels)  # Concatenate all labels along this dimension into a 1D tensor\n",
    "    preds = torch.cat([torch.stack(batch) for batch in preds])\n",
    "\n",
    "    acc = 100.0 * n_correct / n_samples\n",
    "\n",
    "    print(f'Accuracy: {acc:.4f}%')\n",
    "\n",
    "    # Add the precision recall curve to tensorboard\n",
    "    classes = range(10)\n",
    "    for i in classes:\n",
    "        labels_i = diag_labels == i\n",
    "        preds_i = preds[:, i]  # All the samples for class i\n",
    "\n",
    "        writer.add_pr_curve(str(i), labels_i, preds_i, global_step=0)\n",
    "        writer.close()"
   ]
  }
 ],
 "metadata": {
  "interpreter": {
   "hash": "4ce0e62306dd6a5716965d4519ada776f947e6dfc145b604b11307c10277ef29"
  },
  "kernelspec": {
   "display_name": "Python 3.8.6 64-bit",
   "language": "python",
   "name": "python3"
  },
  "language_info": {
   "codemirror_mode": {
    "name": "ipython",
    "version": 3
   },
   "file_extension": ".py",
   "mimetype": "text/x-python",
   "name": "python",
   "nbconvert_exporter": "python",
   "pygments_lexer": "ipython3",
   "version": "3.8.6"
  },
  "orig_nbformat": 4
 },
 "nbformat": 4,
 "nbformat_minor": 2
}
